{
 "cells": [
  {
   "attachments": {},
   "cell_type": "markdown",
   "metadata": {},
   "source": [
    "# Prepare signature data\n",
    "\n",
    "## About this notebook\n",
    "\n",
    "Preparing the dataset (skin cell atlas) to use as signature in SCADEN deconvolution of bulk samples.\n",
    "\n",
    "\n",
    "### Importing and checking columns"
   ]
  },
  {
   "cell_type": "code",
   "execution_count": 1,
   "metadata": {},
   "outputs": [],
   "source": [
    "# Loading packages\n",
    "import anndata as ad\n",
    "import scanpy as sc\n",
    "import pandas as pd\n",
    "import numpy as np\n",
    "\n",
    "# Loading data\n",
    "file_path = \"data/healthy.h5ad\"\n",
    "adata = sc.read_h5ad(file_path)"
   ]
  },
  {
   "cell_type": "code",
   "execution_count": 13,
   "metadata": {},
   "outputs": [
    {
     "data": {
      "text/plain": [
       "Index(['sample_id', 'Status', 'Site', 'Tissue', 'Location', 'donor_id', 'Sex',\n",
       "       'full_clustering'],\n",
       "      dtype='object')"
      ]
     },
     "execution_count": 13,
     "metadata": {},
     "output_type": "execute_result"
    }
   ],
   "source": [
    "adata.obs.columns"
   ]
  },
  {
   "cell_type": "code",
   "execution_count": 14,
   "metadata": {},
   "outputs": [
    {
     "data": {
      "text/plain": [
       "full_clustering\n",
       "Differentiated_KC      32496\n",
       "Undifferentiated_KC    21348\n",
       "Th                     20617\n",
       "VE2                    15511\n",
       "moDC                   12490\n",
       "migLC                  11977\n",
       "F1                     10161\n",
       "VE1                     9645\n",
       "Tc                      8680\n",
       "Macro_1                 5781\n",
       "Treg                    5743\n",
       "Mono_mac                4912\n",
       "Pericyte_1              4705\n",
       "F2                      4260\n",
       "LE2                     3851\n",
       "Melanocyte              3682\n",
       "F3                      3035\n",
       "ILC1_3                  2935\n",
       "ILC1_NK                 2604\n",
       "MigDC                   2080\n",
       "Inf_mac                 1773\n",
       "Macro_2                 1424\n",
       "LE1                     1073\n",
       "NK                       739\n",
       "DC2                      724\n",
       "VE3                      629\n",
       "DC1                      604\n",
       "LC                       568\n",
       "Mast_cell                557\n",
       "ILC2                     494\n",
       "Pericyte_2               301\n",
       "Schwann_1                149\n",
       "Schwann_2                120\n",
       "Plasma                    71\n",
       "Name: count, dtype: int64"
      ]
     },
     "execution_count": 14,
     "metadata": {},
     "output_type": "execute_result"
    }
   ],
   "source": [
    "adata.obs.full_clustering.value_counts()"
   ]
  },
  {
   "cell_type": "markdown",
   "metadata": {},
   "source": [
    "### Adjusting to more general cell type names"
   ]
  },
  {
   "cell_type": "code",
   "execution_count": 15,
   "metadata": {},
   "outputs": [],
   "source": [
    "# Create more general cell type definitions\n",
    "general_cells = {\n",
    "    'Differentiated_KC': 'Keratinocyte',\n",
    "    'Undifferentiated_KC': 'Keratinocyte',\n",
    "    'Th': 'CD4 T Cell',\n",
    "    'VE2': 'Vascular Endothelial',\n",
    "    'moDC': 'moDendritic Cell',\n",
    "    'migLC': 'Langerhans',\n",
    "    'F1': 'Fibroblast',\n",
    "    'VE1': 'Vascular Endothelial',\n",
    "    'Tc': 'CD8 T Cell',\n",
    "    'Macro_1': 'Macrophage',\n",
    "    'Treg': 'Treg',\n",
    "    'Mono_mac': 'Monocyte Macrophage',\n",
    "    'Pericyte_1': 'Pericyte',\n",
    "    'F2': 'Fibroblast',\n",
    "    'LE2': 'Lymphatic Endothelial',\n",
    "    'Melanocyte': 'Melanocyte',\n",
    "    'F3': 'Fibroblast',\n",
    "    'ILC1_3': 'ILC1 ILC3',\n",
    "    'ILC1_NK': 'ILC1 NK',\n",
    "    'MigDC': 'Dendritic Cell',\n",
    "    'Inf_mac': 'Inflammatory Macrophage',\n",
    "    'Macro_2': 'Macrophage',\n",
    "    'LE1': 'Lymphatic Endothelial',\n",
    "    'NK': 'NK Cell',\n",
    "    'DC2': 'Dendritic Cell',\n",
    "    'VE3': 'Vascular Endothelial',\n",
    "    'DC1': 'Dendritic Cell',\n",
    "    'LC': 'Langerhans',\n",
    "    'Mast_cell': 'Mast Cell',\n",
    "    'ILC2': 'ILC2',\n",
    "    'Pericyte_2': 'Pericyte',\n",
    "    'Schwann_1': 'Schwann',\n",
    "    'Schwann_2': 'Schwann',\n",
    "    'Plasma': 'Plasma'\n",
    "}"
   ]
  },
  {
   "cell_type": "code",
   "execution_count": null,
   "metadata": {},
   "outputs": [],
   "source": [
    "# Replace names\n",
    "adata.obs['reduced_celltypes'] = [general_cells[x] for x in adata.obs['full_clustering']]"
   ]
  },
  {
   "cell_type": "code",
   "execution_count": 18,
   "metadata": {},
   "outputs": [
    {
     "data": {
      "text/plain": [
       "reduced_celltypes\n",
       "Keratinocyte               53844\n",
       "Vascular Endothelial       25785\n",
       "CD4 T Cell                 20617\n",
       "Fibroblast                 17456\n",
       "Langerhans                 12545\n",
       "moDendritic Cell           12490\n",
       "CD8 T Cell                  8680\n",
       "Macrophage                  7205\n",
       "Treg                        5743\n",
       "Pericyte                    5006\n",
       "Lymphatic Endothelial       4924\n",
       "Monocyte Macrophage         4912\n",
       "Melanocyte                  3682\n",
       "Dendritic Cell              3408\n",
       "ILC1 ILC3                   2935\n",
       "ILC1 NK                     2604\n",
       "Inflammatory Macrophage     1773\n",
       "NK Cell                      739\n",
       "Mast Cell                    557\n",
       "ILC2                         494\n",
       "Schwann                      269\n",
       "Plasma                        71\n",
       "Name: count, dtype: int64"
      ]
     },
     "execution_count": 18,
     "metadata": {},
     "output_type": "execute_result"
    }
   ],
   "source": [
    "# Check data\n",
    "adata.obs.reduced_celltypes.value_counts()"
   ]
  },
  {
   "cell_type": "markdown",
   "metadata": {},
   "source": [
    "### Creating function to subset data randomly"
   ]
  },
  {
   "cell_type": "code",
   "execution_count": 19,
   "metadata": {},
   "outputs": [],
   "source": [
    "def keywiseAnndataUndersample(adata, obs_key, target_n=1000, target_prop=None):\n",
    "\n",
    "    '''\n",
    "    Subsamples adata object in a key-wise manner.\n",
    "    \n",
    "    Arguments:\n",
    "        adata =         Anndata object.\n",
    "        obs_key =       Key in adata.obs to be aware of. Usually cell types.\n",
    "        target_n =      Target total number of observations to be kept in each key.\n",
    "        target_prop =   Target proportion of observations to be kept in each key. (Optional)\n",
    "\n",
    "    If only target_n is supplied: Subsets all key observations to the desired ammount. If\n",
    "    observations are less than the number specified, they are kept the same.\n",
    "    \n",
    "    If only target_prop is supplied: Subsets all key observations to the desired \n",
    "    proportions, regardless of numbers. Must pass 'None' to target_n.\n",
    "\n",
    "    If both are supplied: Subsets to the desired proportion ONLY if observations numbers are\n",
    "    higher than target_n, acting as minimum threshold.\n",
    "\n",
    "    '''\n",
    "\n",
    "    adata_list = [adata[adata.obs[obs_key] == key] for key in adata.obs[obs_key].unique()]\n",
    "\n",
    "    if target_prop is None:\n",
    "        for i in adata_list:\n",
    "            if i.n_obs > target_n:\n",
    "                sc.pp.subsample(i, n_obs=target_n)\n",
    "    elif target_n is not None:\n",
    "        for i in adata_list:\n",
    "            if i.n_obs > target_n:\n",
    "                sc.pp.subsample(i, fraction=target_prop)\n",
    "    else:\n",
    "        for i in adata_list:\n",
    "            sc.pp.subsample(i, fraction=target_prop)\n",
    "    \n",
    "    adata_ds = adata_list[0].concatenate(*adata_list[1:])\n",
    "    \n",
    "    return adata_ds.copy()\n"
   ]
  },
  {
   "cell_type": "markdown",
   "metadata": {},
   "source": [
    "### Subsetting and checking value counts"
   ]
  },
  {
   "cell_type": "code",
   "execution_count": 20,
   "metadata": {},
   "outputs": [
    {
     "name": "stderr",
     "output_type": "stream",
     "text": [
      "c:\\Users\\imuno\\anaconda3\\lib\\site-packages\\anndata\\_core\\anndata.py:1113: FutureWarning: is_categorical_dtype is deprecated and will be removed in a future version. Use isinstance(dtype, CategoricalDtype) instead\n",
      "  if not is_categorical_dtype(df_full[k]):\n",
      "c:\\Users\\imuno\\anaconda3\\lib\\site-packages\\anndata\\_core\\anndata.py:1763: FutureWarning: The AnnData.concatenate method is deprecated in favour of the anndata.concat function. Please use anndata.concat instead.\n",
      "\n",
      "See the tutorial for concat at: https://anndata.readthedocs.io/en/latest/concatenation.html\n",
      "  warnings.warn(\n",
      "c:\\Users\\imuno\\anaconda3\\lib\\site-packages\\anndata\\_core\\merge.py:1015: FutureWarning: The default value of 'ignore' for the `na_action` parameter in pandas.Categorical.map is deprecated and will be changed to 'None' in a future version. Please set na_action to the desired value to avoid seeing this warning\n",
      "  concat_indices = concat_indices.str.cat(label_col.map(str), sep=index_unique)\n",
      "c:\\Users\\imuno\\anaconda3\\lib\\site-packages\\anndata\\_core\\merge.py:217: FutureWarning: is_categorical_dtype is deprecated and will be removed in a future version. Use isinstance(dtype, CategoricalDtype) instead\n",
      "  if pd.api.types.is_categorical_dtype(dtype):\n",
      "c:\\Users\\imuno\\anaconda3\\lib\\site-packages\\anndata\\_core\\merge.py:1015: FutureWarning: The default value of 'ignore' for the `na_action` parameter in pandas.Categorical.map is deprecated and will be changed to 'None' in a future version. Please set na_action to the desired value to avoid seeing this warning\n",
      "  concat_indices = concat_indices.str.cat(label_col.map(str), sep=index_unique)\n",
      "c:\\Users\\imuno\\anaconda3\\lib\\site-packages\\anndata\\_core\\merge.py:1015: FutureWarning: The default value of 'ignore' for the `na_action` parameter in pandas.Categorical.map is deprecated and will be changed to 'None' in a future version. Please set na_action to the desired value to avoid seeing this warning\n",
      "  concat_indices = concat_indices.str.cat(label_col.map(str), sep=index_unique)\n",
      "c:\\Users\\imuno\\anaconda3\\lib\\site-packages\\anndata\\_core\\merge.py:217: FutureWarning: is_categorical_dtype is deprecated and will be removed in a future version. Use isinstance(dtype, CategoricalDtype) instead\n",
      "  if pd.api.types.is_categorical_dtype(dtype):\n"
     ]
    },
    {
     "data": {
      "text/plain": [
       "reduced_celltypes\n",
       "Keratinocyte               2000\n",
       "Macrophage                 2000\n",
       "Pericyte                   2000\n",
       "moDendritic Cell           2000\n",
       "Monocyte Macrophage        2000\n",
       "Dendritic Cell             2000\n",
       "ILC1 ILC3                  2000\n",
       "Melanocyte                 2000\n",
       "ILC1 NK                    2000\n",
       "Treg                       2000\n",
       "CD8 T Cell                 2000\n",
       "Vascular Endothelial       2000\n",
       "CD4 T Cell                 2000\n",
       "Langerhans                 2000\n",
       "Fibroblast                 2000\n",
       "Lymphatic Endothelial      2000\n",
       "Inflammatory Macrophage    1773\n",
       "NK Cell                     739\n",
       "Mast Cell                   557\n",
       "ILC2                        494\n",
       "Schwann                     269\n",
       "Plasma                       71\n",
       "Name: count, dtype: int64"
      ]
     },
     "execution_count": 20,
     "metadata": {},
     "output_type": "execute_result"
    }
   ],
   "source": [
    "adata_ds = keywiseAnndataUndersample(adata, 'reduced_celltypes', target_n=2000, target_prop=None)\n",
    "adata_ds.obs.reduced_celltypes.value_counts()"
   ]
  },
  {
   "cell_type": "markdown",
   "metadata": {},
   "source": [
    "### Removing unclear celltypes"
   ]
  },
  {
   "cell_type": "code",
   "execution_count": 23,
   "metadata": {},
   "outputs": [
    {
     "name": "stderr",
     "output_type": "stream",
     "text": [
      "c:\\Users\\imuno\\anaconda3\\lib\\site-packages\\anndata\\_core\\anndata.py:1113: FutureWarning: is_categorical_dtype is deprecated and will be removed in a future version. Use isinstance(dtype, CategoricalDtype) instead\n",
      "  if not is_categorical_dtype(df_full[k]):\n"
     ]
    }
   ],
   "source": [
    "cells = ['ILC1 ILC3', 'ILC1 NK', 'ILC2']\n",
    "\n",
    "adata_ds = adata_ds[~adata_ds.obs.reduced_celltypes.isin(cells)]"
   ]
  },
  {
   "cell_type": "code",
   "execution_count": 61,
   "metadata": {},
   "outputs": [],
   "source": [
    "## Preparing files for Scaden in omnideconv (R)\n",
    "\n",
    "# Converting to raw and saving\n",
    "raw_matrix = adata_ds.raw.X.toarray()\n",
    "pd.DataFrame(data = raw_matrix, \n",
    "             index = adata_ds.obs_names, \n",
    "             columns = adata_ds.raw.var_names).to_csv(\"data/signature/skin_sc_matrix.csv\")\n",
    "\n",
    "# Saving obs data\n",
    "adata_ds.obs.to_csv(\"data/signature/skin_sc_obs.csv\")"
   ]
  }
 ],
 "metadata": {
  "kernelspec": {
   "display_name": "base",
   "language": "python",
   "name": "python3"
  },
  "language_info": {
   "codemirror_mode": {
    "name": "ipython",
    "version": 3
   },
   "file_extension": ".py",
   "mimetype": "text/x-python",
   "name": "python",
   "nbconvert_exporter": "python",
   "pygments_lexer": "ipython3",
   "version": "3.9.13"
  },
  "vscode": {
   "interpreter": {
    "hash": "0a7a6f8b9e12af56cfb55fbb376ef7e3df3279f8f475f9beea5c617149b07873"
   }
  }
 },
 "nbformat": 4,
 "nbformat_minor": 2
}
